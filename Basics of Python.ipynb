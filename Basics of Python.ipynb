{
 "cells": [
  {
   "cell_type": "markdown",
   "id": "658bb891",
   "metadata": {},
   "source": [
    "# write a program to print yourself introduction"
   ]
  },
  {
   "cell_type": "code",
   "execution_count": 1,
   "id": "a9f78afb",
   "metadata": {},
   "outputs": [
    {
     "name": "stdout",
     "output_type": "stream",
     "text": [
      "My name is Jiniya xavier.\n",
      "I am 24 years old.\n",
      "I am from Kerala.\n",
      "I have completed masters in Economics\n"
     ]
    }
   ],
   "source": [
    "introduction=\"My name is Jiniya xavier.\\nI am 24 years old.\\nI am from Kerala.\\nI have completed masters in Economics\"\n",
    "print(introduction)"
   ]
  },
  {
   "cell_type": "markdown",
   "id": "270bc72a",
   "metadata": {},
   "source": [
    "# write a program to perform the following operations:"
   ]
  },
  {
   "cell_type": "code",
   "execution_count": 6,
   "id": "1849a676",
   "metadata": {},
   "outputs": [
    {
     "name": "stdout",
     "output_type": "stream",
     "text": [
      "enter first number: 30\n",
      "enter second number: 20\n",
      "Sum of numbers=  50\n"
     ]
    }
   ],
   "source": [
    "# Addition\n",
    "num1=int(input(\"enter first number: \"))\n",
    "num2=int(input(\"enter second number: \"))\n",
    "print(\"Sum of numbers= \",num1+num2 )"
   ]
  },
  {
   "cell_type": "code",
   "execution_count": 13,
   "id": "f75d0c36",
   "metadata": {},
   "outputs": [
    {
     "name": "stdout",
     "output_type": "stream",
     "text": [
      "enter first number: 50\n",
      "enter second number: 7\n",
      "Difference of numbers= 43\n"
     ]
    }
   ],
   "source": [
    "# substraction\n",
    "num1=int(input(\"enter first number: \"))\n",
    "num2=int(input(\"enter second number: \"))\n",
    "print(\"Difference of numbers=\",num1-num2)"
   ]
  },
  {
   "cell_type": "code",
   "execution_count": 9,
   "id": "709580a9",
   "metadata": {},
   "outputs": [
    {
     "name": "stdout",
     "output_type": "stream",
     "text": [
      "enter first number: 50\n",
      "enter second number: 25\n",
      "product of numbers= 1250\n"
     ]
    }
   ],
   "source": [
    "# Multiplication \n",
    "num1=int(input(\"enter first number: \"))\n",
    "num2=int(input(\"enter second number: \"))\n",
    "print(\"product of numbers=\",num1*num2)"
   ]
  },
  {
   "cell_type": "code",
   "execution_count": 10,
   "id": "f884622b",
   "metadata": {},
   "outputs": [
    {
     "name": "stdout",
     "output_type": "stream",
     "text": [
      "enter first number: 1000\n",
      "enter second number: 20\n",
      "Division= 50.0\n"
     ]
    }
   ],
   "source": [
    "# Division\n",
    "num1=int(input(\"enter first number: \"))\n",
    "num2=int(input(\"enter second number: \"))\n",
    "print(\"Division=\",num1/num2)"
   ]
  },
  {
   "cell_type": "code",
   "execution_count": 11,
   "id": "da0de36e",
   "metadata": {},
   "outputs": [
    {
     "name": "stdout",
     "output_type": "stream",
     "text": [
      "enter first number: 77\n",
      "enter second number: 2\n",
      "modulus= 1\n"
     ]
    }
   ],
   "source": [
    "# Modulus\n",
    "num1=int(input(\"enter first number: \"))\n",
    "num2=int(input(\"enter second number: \"))\n",
    "print(\"modulus=\",num1%num2)"
   ]
  },
  {
   "cell_type": "code",
   "execution_count": 12,
   "id": "e1eeaa2e",
   "metadata": {},
   "outputs": [
    {
     "name": "stdout",
     "output_type": "stream",
     "text": [
      "enter a number: 7\n",
      "power or exponent= 49\n"
     ]
    }
   ],
   "source": [
    "# Exponent\n",
    "num1=int(input(\"enter a number: \"))\n",
    "print(\"power or exponent=\",num1**2)"
   ]
  },
  {
   "cell_type": "markdown",
   "id": "3601ffff",
   "metadata": {},
   "source": [
    "# write a program to swap 2 numbers\n"
   ]
  },
  {
   "cell_type": "code",
   "execution_count": 15,
   "id": "2a19b07d",
   "metadata": {},
   "outputs": [
    {
     "name": "stdout",
     "output_type": "stream",
     "text": [
      "enter first number: 20\n",
      "enter second number: 10\n",
      "swapping of 2 number: 10 20\n"
     ]
    }
   ],
   "source": [
    "num1=int(input(\"enter first number: \"))\n",
    "num2=int(input(\"enter second number: \"))\n",
    "num3=num1\n",
    "num1=num2\n",
    "num2=num3\n",
    "print(\"swapping of 2 number:\", num1,num2)"
   ]
  },
  {
   "cell_type": "markdown",
   "id": "b55f3e89",
   "metadata": {},
   "source": [
    "# Write a program to swap 2 numbers without using 3rd variable"
   ]
  },
  {
   "cell_type": "code",
   "execution_count": 16,
   "id": "7047f648",
   "metadata": {},
   "outputs": [
    {
     "name": "stdout",
     "output_type": "stream",
     "text": [
      "enter first number: 100\n",
      "enter second number: 50\n",
      "swapping = 50 100\n"
     ]
    }
   ],
   "source": [
    "num1=int(input(\"enter first number: \"))\n",
    "num2=int(input(\"enter second number: \"))\n",
    "num1=num1+num2\n",
    "num2=num1-num2\n",
    "num1=num1-num2\n",
    "print(\"swapping =\",num1,num2)"
   ]
  },
  {
   "cell_type": "markdown",
   "id": "bd780516",
   "metadata": {},
   "source": [
    "# write a program to compute simple interest"
   ]
  },
  {
   "cell_type": "code",
   "execution_count": 17,
   "id": "cb89a5c6",
   "metadata": {},
   "outputs": [
    {
     "name": "stdout",
     "output_type": "stream",
     "text": [
      "enter principal amount: 100000\n",
      "enter rate of interest: 7\n",
      "enter years: 2\n",
      "simple interest= 14000.0\n"
     ]
    }
   ],
   "source": [
    "principal_amount=int(input(\"enter principal amount: \"))\n",
    "Rate_of_interest=int(input(\"enter rate of interest: \"))\n",
    "no_of_years=int(input(\"enter years: \"))\n",
    "print(\"simple interest=\", (principal_amount*Rate_of_interest*no_of_years)/100)"
   ]
  },
  {
   "cell_type": "markdown",
   "id": "c4259db3",
   "metadata": {},
   "source": [
    "# Write a program to find average of 5 numbers by user input.\n"
   ]
  },
  {
   "cell_type": "code",
   "execution_count": 19,
   "id": "80d02676",
   "metadata": {},
   "outputs": [
    {
     "name": "stdout",
     "output_type": "stream",
     "text": [
      "enter first number: 5\n",
      "enter second number: 6\n",
      "enter 3rd number: 7\n",
      "enter 4th number: 8\n",
      "enter 5th number: 9\n",
      "average of 5 number= 7.0\n"
     ]
    }
   ],
   "source": [
    "num1=int(input(\"enter first number: \"))\n",
    "num2=int(input(\"enter second number: \"))\n",
    "num3=int(input(\"enter 3rd number: \"))\n",
    "num4=int(input(\"enter 4th number: \"))\n",
    "num5=int(input(\"enter 5th number: \"))\n",
    "print(\"average of 5 number=\",(num1+num2+num3+num4+num5)/5)\n"
   ]
  },
  {
   "cell_type": "markdown",
   "id": "d20378cf",
   "metadata": {},
   "source": [
    "# write a program to calculate the discriminant of a quadratic equation"
   ]
  },
  {
   "cell_type": "code",
   "execution_count": 20,
   "id": "9f44a824",
   "metadata": {},
   "outputs": [
    {
     "name": "stdout",
     "output_type": "stream",
     "text": [
      "discriminant = 64\n"
     ]
    }
   ],
   "source": [
    "a= 1\n",
    "b= 10\n",
    "c= 9\n",
    "discriminant=b**2-(4*a*c)\n",
    "print(\"discriminant =\", discriminant)"
   ]
  },
  {
   "cell_type": "markdown",
   "id": "832bed4c",
   "metadata": {},
   "source": [
    "# write a program to calculate the areas of the following shapes"
   ]
  },
  {
   "cell_type": "code",
   "execution_count": 22,
   "id": "b1352b3e",
   "metadata": {},
   "outputs": [
    {
     "name": "stdout",
     "output_type": "stream",
     "text": [
      "area of rectangle=  425\n"
     ]
    }
   ],
   "source": [
    "# Rectangle\n",
    "Length=25\n",
    "breadth=17\n",
    "print(\"area of rectangle= \", Length*breadth)"
   ]
  },
  {
   "cell_type": "code",
   "execution_count": 23,
   "id": "d0c7c690",
   "metadata": {},
   "outputs": [
    {
     "name": "stdout",
     "output_type": "stream",
     "text": [
      "area of square=  22500\n"
     ]
    }
   ],
   "source": [
    "# square\n",
    "side=150\n",
    "print(\"area of square= \", side*side)"
   ]
  },
  {
   "cell_type": "code",
   "execution_count": 24,
   "id": "5f92e6d7",
   "metadata": {},
   "outputs": [
    {
     "name": "stdout",
     "output_type": "stream",
     "text": [
      "area of triangel= 84.0\n"
     ]
    }
   ],
   "source": [
    "# Triangel\n",
    "base=14 \n",
    "height=12\n",
    "print(\"area of triangel=\",(0.5*base*height))"
   ]
  },
  {
   "cell_type": "code",
   "execution_count": 25,
   "id": "4df26cee",
   "metadata": {},
   "outputs": [
    {
     "name": "stdout",
     "output_type": "stream",
     "text": [
      "area of circle= 153.86\n"
     ]
    }
   ],
   "source": [
    "# Circle\n",
    "radius=7\n",
    "print(\"area of circle=\",3.14*radius**2)"
   ]
  },
  {
   "cell_type": "markdown",
   "id": "7aaa0091",
   "metadata": {},
   "source": [
    "### write a program to calculate net salary of an employee whose basic salary is entered by the user,DA is 5% of basic salary, HRA is 7% of basic salary and PF is 3% of basic salary"
   ]
  },
  {
   "cell_type": "code",
   "execution_count": 29,
   "id": "53e8c861",
   "metadata": {},
   "outputs": [
    {
     "name": "stdout",
     "output_type": "stream",
     "text": [
      "enter your basic salary: 700000\n",
      "761950.0\n"
     ]
    }
   ],
   "source": [
    "basic_salary=int(input(\"enter your basic salary: \"))\n",
    "DA= float(basic_salary*.05)\n",
    "HRA=float(basic_salary*0.07)\n",
    "PF= float((basic_salary+DA)*0.03)\n",
    "net_pay= float(basic_salary+DA+HRA)\n",
    "grosspay=float(net_pay-PF)\n",
    "print(grosspay)\n",
    "\n"
   ]
  },
  {
   "cell_type": "markdown",
   "id": "8faa4ec2",
   "metadata": {},
   "source": [
    "# write a program to calculate the power of a number"
   ]
  },
  {
   "cell_type": "code",
   "execution_count": 30,
   "id": "42d328f2",
   "metadata": {},
   "outputs": [
    {
     "name": "stdout",
     "output_type": "stream",
     "text": [
      "enter number: 5\n",
      "power of a number is  125\n"
     ]
    }
   ],
   "source": [
    "num=int(input(\"enter number: \"))\n",
    "print(\"power of a number is \", num**3)"
   ]
  },
  {
   "cell_type": "markdown",
   "id": "2d8034af",
   "metadata": {},
   "source": [
    "# write a program to get python version you are using"
   ]
  },
  {
   "cell_type": "code",
   "execution_count": 3,
   "id": "99c51b57",
   "metadata": {},
   "outputs": [
    {
     "name": "stdout",
     "output_type": "stream",
     "text": [
      "3.9.13\n"
     ]
    }
   ],
   "source": [
    "from platform import python_version\n",
    "print(python_version())"
   ]
  },
  {
   "cell_type": "code",
   "execution_count": null,
   "id": "570b2864",
   "metadata": {},
   "outputs": [],
   "source": []
  }
 ],
 "metadata": {
  "kernelspec": {
   "display_name": "Python 3 (ipykernel)",
   "language": "python",
   "name": "python3"
  },
  "language_info": {
   "codemirror_mode": {
    "name": "ipython",
    "version": 3
   },
   "file_extension": ".py",
   "mimetype": "text/x-python",
   "name": "python",
   "nbconvert_exporter": "python",
   "pygments_lexer": "ipython3",
   "version": "3.9.13"
  }
 },
 "nbformat": 4,
 "nbformat_minor": 5
}
