{
 "cells": [
  {
   "cell_type": "markdown",
   "id": "552f6e50",
   "metadata": {},
   "source": [
    "### 1. Write a program to print \"Hello Python\" ten times"
   ]
  },
  {
   "cell_type": "code",
   "execution_count": 16,
   "id": "139fa688",
   "metadata": {},
   "outputs": [
    {
     "name": "stdout",
     "output_type": "stream",
     "text": [
      "Hello Python 1\n",
      "Hello Python 2\n",
      "Hello Python 3\n",
      "Hello Python 4\n",
      "Hello Python 5\n",
      "Hello Python 6\n",
      "Hello Python 7\n",
      "Hello Python 8\n",
      "Hello Python 9\n",
      "Hello Python 10\n",
      "end of loop\n"
     ]
    }
   ],
   "source": [
    "i=1\n",
    "while i<=10:\n",
    "    print(\"Hello Python\",i)\n",
    "    i=i+1\n",
    "print(\"end of loop\")"
   ]
  },
  {
   "cell_type": "markdown",
   "id": "83e0b728",
   "metadata": {},
   "source": [
    "### 2.Write a program to print number from 1 to 10"
   ]
  },
  {
   "cell_type": "code",
   "execution_count": 1,
   "id": "a064212a",
   "metadata": {},
   "outputs": [
    {
     "name": "stdout",
     "output_type": "stream",
     "text": [
      "1 2 3 4 5 6 7 8 9 10 "
     ]
    }
   ],
   "source": [
    "i=1\n",
    "while i<=10:\n",
    "    print(i,end=' ')\n",
    "    i=i+1"
   ]
  },
  {
   "cell_type": "markdown",
   "id": "25ea05fa",
   "metadata": {},
   "source": [
    "### 3.Write a program to print sum of first ten number"
   ]
  },
  {
   "cell_type": "code",
   "execution_count": 5,
   "id": "e8a16064",
   "metadata": {},
   "outputs": [
    {
     "name": "stdout",
     "output_type": "stream",
     "text": [
      "55 is the sum of first ten numbers\n"
     ]
    }
   ],
   "source": [
    "i=1\n",
    "sum=0\n",
    "while i<=10:\n",
    "    sum=sum+i\n",
    "    i=i+1\n",
    "print(sum,\"is the sum of first ten numbers\")\n",
    "    "
   ]
  },
  {
   "cell_type": "markdown",
   "id": "b52affdb",
   "metadata": {},
   "source": [
    "### 4.Write a program to print n number entered by user"
   ]
  },
  {
   "cell_type": "code",
   "execution_count": 6,
   "id": "98f3e07a",
   "metadata": {},
   "outputs": [
    {
     "name": "stdout",
     "output_type": "stream",
     "text": [
      "enter a number: 7\n",
      "1\n",
      "2\n",
      "3\n",
      "4\n",
      "5\n",
      "6\n",
      "7\n"
     ]
    }
   ],
   "source": [
    "num=int(input(\"enter a number: \"))\n",
    "i=1\n",
    "while i<=num:\n",
    "    print(i)\n",
    "    i=i+1"
   ]
  },
  {
   "cell_type": "markdown",
   "id": "dd3022a7",
   "metadata": {},
   "source": [
    "### 5.Write a program to print sum of n numbers."
   ]
  },
  {
   "cell_type": "code",
   "execution_count": 15,
   "id": "c5e86267",
   "metadata": {},
   "outputs": [
    {
     "name": "stdout",
     "output_type": "stream",
     "text": [
      "enter a number: 7\n",
      "sum of entered number is  28\n"
     ]
    }
   ],
   "source": [
    "num=int(input(\"enter a number: \"))\n",
    "sum=0\n",
    "i=1\n",
    "while i<=num:\n",
    "    sum= sum+i\n",
    "    i +=1\n",
    "print(\"sum of entered number is \",sum)"
   ]
  },
  {
   "cell_type": "markdown",
   "id": "0a03608e",
   "metadata": {},
   "source": [
    "### 6.Write a program to print table of a number."
   ]
  },
  {
   "cell_type": "code",
   "execution_count": 5,
   "id": "3cf0ce10",
   "metadata": {},
   "outputs": [
    {
     "name": "stdout",
     "output_type": "stream",
     "text": [
      "enter a number: 5\n",
      "5 * 1 = 5\n",
      "5 * 2 = 10\n",
      "5 * 3 = 15\n",
      "5 * 4 = 20\n",
      "5 * 5 = 25\n",
      "5 * 6 = 30\n",
      "5 * 7 = 35\n",
      "5 * 8 = 40\n",
      "5 * 9 = 45\n",
      "5 * 10 = 50\n"
     ]
    }
   ],
   "source": [
    "num=int(input(\"enter a number: \"))\n",
    "i=1\n",
    "while i<=10 and num!=0:\n",
    "    tab=num*i\n",
    "    print(num,'*',i,'=',tab)\n",
    "    i=i+1\n",
    "    \n",
    "    "
   ]
  },
  {
   "cell_type": "markdown",
   "id": "5093fc04",
   "metadata": {},
   "source": [
    "### 7.Write a program to calculate the factorial of a number"
   ]
  },
  {
   "cell_type": "code",
   "execution_count": 9,
   "id": "a22c9598",
   "metadata": {},
   "outputs": [
    {
     "name": "stdout",
     "output_type": "stream",
     "text": [
      "enter a number: 5\n",
      "120 is the factorial of  5\n"
     ]
    }
   ],
   "source": [
    "num=int(input(\"enter a number: \"))\n",
    "i=1\n",
    "fact=1\n",
    "while i<=num:\n",
    "    fact=fact*i\n",
    "    i=i+1\n",
    "print(fact,\"is the factorial of \",num)\n",
    "    \n",
    "    "
   ]
  },
  {
   "cell_type": "markdown",
   "id": "af825b74",
   "metadata": {},
   "source": [
    "### 8. Write a program to print even number between 1 and 100."
   ]
  },
  {
   "cell_type": "code",
   "execution_count": 13,
   "id": "30fd671d",
   "metadata": {},
   "outputs": [
    {
     "name": "stdout",
     "output_type": "stream",
     "text": [
      "2  4  6  8  10  12  14  16  18  20  22  24  26  28  30  32  34  36  38  40  42  44  46  48  50  52  54  56  58  60  62  64  66  68  70  72  74  76  78  80  82  84  86  88  90  92  94  96  98  100  "
     ]
    }
   ],
   "source": [
    "i=2\n",
    "while i<=100:\n",
    "    print(i,' ',end=\"\")\n",
    "    i=i+2"
   ]
  },
  {
   "cell_type": "markdown",
   "id": "96a802b8",
   "metadata": {},
   "source": [
    "### 9. Write a program to print even number between 1 and 100."
   ]
  },
  {
   "cell_type": "code",
   "execution_count": 14,
   "id": "291df819",
   "metadata": {},
   "outputs": [
    {
     "name": "stdout",
     "output_type": "stream",
     "text": [
      "1  3  5  7  9  11  13  15  17  19  21  23  25  27  29  31  33  35  37  39  41  43  45  47  49  51  53  55  57  59  61  63  65  67  69  71  73  75  77  79  81  83  85  87  89  91  93  95  97  99  "
     ]
    }
   ],
   "source": [
    "i=1\n",
    "while i<=100:\n",
    "    print(i,' ',end=\"\")\n",
    "    i=i+2"
   ]
  },
  {
   "cell_type": "markdown",
   "id": "0e0abc26",
   "metadata": {},
   "source": [
    "### 10. Write a program to check whether a given number is palindrome or not"
   ]
  },
  {
   "cell_type": "code",
   "execution_count": 11,
   "id": "009c4c55",
   "metadata": {},
   "outputs": [
    {
     "name": "stdout",
     "output_type": "stream",
     "text": [
      "enter a number: 787\n",
      "787 is the palindrome of given number\n"
     ]
    }
   ],
   "source": [
    "num=int(input(\"enter a number: \"))\n",
    "temp=num\n",
    "rev=0\n",
    "while num!=0:\n",
    "    digit= num%10\n",
    "    rev= rev*10+digit\n",
    "    num=num//10\n",
    "if temp==rev:\n",
    "    print(temp,\"is the palindrome of given number\")\n",
    "else:\n",
    "    print(temp,\"is not the palindrome of given number\")"
   ]
  },
  {
   "cell_type": "markdown",
   "id": "c1390bda",
   "metadata": {},
   "source": [
    "### 11. Write a program to find factors of a number"
   ]
  },
  {
   "cell_type": "code",
   "execution_count": null,
   "id": "0a4acc63",
   "metadata": {},
   "outputs": [
    {
     "name": "stdout",
     "output_type": "stream",
     "text": [
      "enter a number: 42\n",
      "1 2 3 6 7 14 21 42 "
     ]
    }
   ],
   "source": [
    "num=int(input(\"enter a number: \"))\n",
    "i=1\n",
    "while num>=1:\n",
    "    if num%i==0:\n",
    "        print(i,end=\" \")\n",
    "    i=i+1"
   ]
  },
  {
   "cell_type": "markdown",
   "id": "fa2880ea",
   "metadata": {},
   "source": [
    "### 12. Write a program to print reverse of a number"
   ]
  },
  {
   "cell_type": "code",
   "execution_count": 3,
   "id": "cd44dae7",
   "metadata": {},
   "outputs": [
    {
     "name": "stdout",
     "output_type": "stream",
     "text": [
      "enter a number: 895\n",
      "598\n"
     ]
    }
   ],
   "source": [
    "num=int(input(\"enter a number: \"))\n",
    "temp=num\n",
    "rev=0\n",
    "while num !=0:\n",
    "    digit=num%10\n",
    "    rev=rev*10+digit\n",
    "    num=num//10\n",
    "print(rev)"
   ]
  },
  {
   "cell_type": "markdown",
   "id": "d261a904",
   "metadata": {},
   "source": [
    "### 13. write a program to find the sum of reverse of a number."
   ]
  },
  {
   "cell_type": "code",
   "execution_count": 2,
   "id": "e1466886",
   "metadata": {},
   "outputs": [
    {
     "name": "stdout",
     "output_type": "stream",
     "text": [
      "enter a number: 123\n",
      "321\n",
      "6 is the reversed sum of the given number\n"
     ]
    }
   ],
   "source": [
    "num=int(input(\"enter a number: \"))\n",
    "add=0\n",
    "rev=0\n",
    "\n",
    "while num!=0:\n",
    "    digit=num%10\n",
    "    rev=rev*10+digit\n",
    "    add=add+digit\n",
    "    num=num//10\n",
    "print(rev)    \n",
    "print(add,\"is the reversed sum of the given number\")"
   ]
  },
  {
   "cell_type": "markdown",
   "id": "ef3d2711",
   "metadata": {},
   "source": [
    "### 14. Write a program to check whether the given number is prime or not"
   ]
  },
  {
   "cell_type": "code",
   "execution_count": 10,
   "id": "30e8d5de",
   "metadata": {},
   "outputs": [
    {
     "name": "stdout",
     "output_type": "stream",
     "text": [
      "Enter a number to check prime or not: 23\n",
      "It's a prime 23\n"
     ]
    }
   ],
   "source": [
    "n=int(input(\"Enter a number to check prime or not: \"))           \n",
    "if n<2:                                    \n",
    "    print(n,\"is not a prime number\")\n",
    "else:\n",
    "    for i in range(2,n):                  \n",
    "        if n%i==0:                        \n",
    "            print(n,\"is not a prime mumber\")\n",
    "            break\n",
    "    else:\n",
    "        print(\"It's a prime\",n) "
   ]
  },
  {
   "cell_type": "markdown",
   "id": "97883ec8",
   "metadata": {},
   "source": [
    "### 15. Program to enter the cube of numbers from 1 to given number"
   ]
  },
  {
   "cell_type": "code",
   "execution_count": 14,
   "id": "96944331",
   "metadata": {},
   "outputs": [
    {
     "name": "stdout",
     "output_type": "stream",
     "text": [
      "enter a number: 7\n",
      "1 8 27 64 125 216 343 "
     ]
    }
   ],
   "source": [
    "num=int(input(\"enter a number: \"))\n",
    "i=1\n",
    "while i<=num:\n",
    "    print(i**3,end=' ')\n",
    "    i+=1"
   ]
  },
  {
   "cell_type": "markdown",
   "id": "d3d7845c",
   "metadata": {},
   "source": [
    "# Patterns"
   ]
  },
  {
   "cell_type": "markdown",
   "id": "b1b3aac7",
   "metadata": {},
   "source": [
    "### Number pattern"
   ]
  },
  {
   "cell_type": "code",
   "execution_count": 15,
   "id": "f239afc3",
   "metadata": {},
   "outputs": [
    {
     "name": "stdout",
     "output_type": "stream",
     "text": [
      "1\n",
      "12\n",
      "123\n",
      "1234\n",
      "12345\n"
     ]
    }
   ],
   "source": [
    "for i in range(1,6):        \n",
    "    for j in range(1,i+1):   \n",
    "        print(j,end=\"\")\n",
    "    print()"
   ]
  },
  {
   "cell_type": "code",
   "execution_count": 16,
   "id": "770184e3",
   "metadata": {},
   "outputs": [
    {
     "name": "stdout",
     "output_type": "stream",
     "text": [
      "enter a number7\n",
      "1234567\n",
      "123456\n",
      "12345\n",
      "1234\n",
      "123\n",
      "12\n",
      "1\n"
     ]
    }
   ],
   "source": [
    "n=int(input(\"enter a number\"))\n",
    "for i in range(n):\n",
    "    for j in range(n-i):\n",
    "        print(j+1,end=\"\")\n",
    "    print()"
   ]
  },
  {
   "cell_type": "code",
   "execution_count": 17,
   "id": "7e704387",
   "metadata": {},
   "outputs": [
    {
     "name": "stdout",
     "output_type": "stream",
     "text": [
      "enter a number5\n",
      "1 2 3 4 5 \n",
      "1 2 3 4 \n",
      "1 2 3 \n",
      "1 2 \n",
      "1 \n"
     ]
    }
   ],
   "source": [
    "n=int(input(\"enter a number\"))\n",
    "for i in range(n):\n",
    "    for j in range(n-i):\n",
    "        print(j+1,end=\" \")\n",
    "    print()"
   ]
  },
  {
   "cell_type": "code",
   "execution_count": 19,
   "id": "b5fd81e1",
   "metadata": {},
   "outputs": [
    {
     "name": "stdout",
     "output_type": "stream",
     "text": [
      "enter a number7\n",
      "7 \n",
      "7 6 \n",
      "7 6 5 \n",
      "7 6 5 4 \n",
      "7 6 5 4 3 \n",
      "7 6 5 4 3 2 \n",
      "7 6 5 4 3 2 1 \n",
      "7 6 5 4 3 2 1 0 \n"
     ]
    }
   ],
   "source": [
    "n=int(input(\"enter a number\"))\n",
    "for i in range(n,-1,-1):\n",
    "    for j in range(n,i-1,-1):\n",
    "        print(j,end=\" \")\n",
    "    print() "
   ]
  },
  {
   "cell_type": "code",
   "execution_count": 20,
   "id": "70985018",
   "metadata": {},
   "outputs": [
    {
     "name": "stdout",
     "output_type": "stream",
     "text": [
      "enter a number5\n",
      "54321\n",
      "5432\n",
      "543\n",
      "54\n",
      "5\n"
     ]
    }
   ],
   "source": [
    "n=int(input(\"enter a number\"))           \n",
    "for i in range(n):                        \n",
    "    for j in range(n-i):                 \n",
    "        print(n-j,end=\"\")                 \n",
    "    print() "
   ]
  },
  {
   "cell_type": "code",
   "execution_count": 21,
   "id": "12aac804",
   "metadata": {},
   "outputs": [
    {
     "name": "stdout",
     "output_type": "stream",
     "text": [
      "enter a number3\n",
      "3 2 1 \n",
      "3 2 \n",
      "3 \n"
     ]
    }
   ],
   "source": [
    "n=int(input(\"enter a number\"))          \n",
    "for i in range(n):                        \n",
    "    for j in range(n-i):                  \n",
    "        print(n-j,end=\" \")                 \n",
    "    print() "
   ]
  },
  {
   "cell_type": "markdown",
   "id": "6eaad195",
   "metadata": {},
   "source": [
    "# Alphabet pattern"
   ]
  },
  {
   "cell_type": "code",
   "execution_count": 23,
   "id": "1a4dd000",
   "metadata": {},
   "outputs": [
    {
     "name": "stdout",
     "output_type": "stream",
     "text": [
      "A \n",
      "A B \n",
      "A B C \n",
      "A B C D \n",
      "A B C D E \n",
      "A B C D E F \n"
     ]
    }
   ],
   "source": [
    "for i in range(6): \n",
    "    for j in range(i+1): \n",
    "        print(chr(65+j),end=\" \")\n",
    "    print()"
   ]
  },
  {
   "cell_type": "code",
   "execution_count": 24,
   "id": "01e5bd1c",
   "metadata": {},
   "outputs": [
    {
     "name": "stdout",
     "output_type": "stream",
     "text": [
      "A\n",
      "BB\n",
      "CCC\n",
      "DDDD\n",
      "EEEEE\n",
      "FFFFFF\n"
     ]
    }
   ],
   "source": [
    "for i in range(6): \n",
    "    for j in range(i+1): \n",
    "        print(chr(65+i),end=\"\")\n",
    "    print()"
   ]
  },
  {
   "cell_type": "code",
   "execution_count": 25,
   "id": "34c72156",
   "metadata": {},
   "outputs": [
    {
     "name": "stdout",
     "output_type": "stream",
     "text": [
      "enter a number7\n",
      "A B C D E F G \n",
      "A B C D E F \n",
      "A B C D E \n",
      "A B C D \n",
      "A B C \n",
      "A B \n",
      "A \n",
      "\n"
     ]
    }
   ],
   "source": [
    "n=int(input(\"enter a number\"))\n",
    "for i in range(n,-1,-1):\n",
    "    for j in range(0,i):\n",
    "        print(chr(65+j),end=\" \")\n",
    "    print()"
   ]
  },
  {
   "cell_type": "code",
   "execution_count": 26,
   "id": "d02348d9",
   "metadata": {},
   "outputs": [
    {
     "name": "stdout",
     "output_type": "stream",
     "text": [
      "enter a number5\n",
      "F F F F F F \n",
      "E E E E E \n",
      "D D D D \n",
      "C C C \n",
      "B B \n",
      "A \n"
     ]
    }
   ],
   "source": [
    "n=int(input(\"enter a number\"))\n",
    "for i in range(n,-1,-1):          \n",
    "    for j in range(0,i+1):        \n",
    "        print(chr(65+i),end=\" \")   \n",
    "    print()     "
   ]
  },
  {
   "cell_type": "markdown",
   "id": "2bccab57",
   "metadata": {},
   "source": [
    "# star pattern"
   ]
  },
  {
   "cell_type": "code",
   "execution_count": 27,
   "id": "15a2b4c9",
   "metadata": {},
   "outputs": [
    {
     "name": "stdout",
     "output_type": "stream",
     "text": [
      "*\n",
      "**\n",
      "***\n",
      "****\n",
      "*****\n",
      "******\n"
     ]
    }
   ],
   "source": [
    "for i in range(6): \n",
    "    for j in range(i+1): \n",
    "        print(\"*\",end=\"\")\n",
    "    print()"
   ]
  },
  {
   "cell_type": "code",
   "execution_count": 31,
   "id": "8b36d3fc",
   "metadata": {},
   "outputs": [
    {
     "name": "stdout",
     "output_type": "stream",
     "text": [
      "enter a number8\n",
      "********\n",
      "********\n",
      "********\n",
      "********\n",
      "********\n",
      "********\n",
      "********\n",
      "********\n"
     ]
    }
   ],
   "source": [
    "n=int(input(\"enter a number\"))\n",
    "for i in range(n):\n",
    "    print(\"*\" *n)"
   ]
  },
  {
   "cell_type": "code",
   "execution_count": 32,
   "id": "8b510f86",
   "metadata": {},
   "outputs": [
    {
     "name": "stdout",
     "output_type": "stream",
     "text": [
      "enter a number7\n",
      "*******\n",
      "******\n",
      "*****\n",
      "****\n",
      "***\n",
      "**\n",
      "*\n",
      "\n"
     ]
    }
   ],
   "source": [
    "n=int(input(\"enter a number\"))\n",
    "for i in range(n,-1,-1): \n",
    "    for j in range(0,i): \n",
    "        print(\"*\",end=\"\")\n",
    "    print()"
   ]
  },
  {
   "cell_type": "code",
   "execution_count": 33,
   "id": "d7132b04",
   "metadata": {},
   "outputs": [
    {
     "name": "stdout",
     "output_type": "stream",
     "text": [
      "*****\n",
      " ****\n",
      "  ***\n",
      "   **\n",
      "    *\n"
     ]
    }
   ],
   "source": [
    "for i in range(5):\n",
    "    print(\" \" * i + \"*\" * (5-i))"
   ]
  },
  {
   "cell_type": "code",
   "execution_count": 34,
   "id": "497aa00d",
   "metadata": {},
   "outputs": [
    {
     "name": "stdout",
     "output_type": "stream",
     "text": [
      "     *\n",
      "    **\n",
      "   ***\n",
      "  ****\n",
      " *****\n",
      "******\n"
     ]
    }
   ],
   "source": [
    "for i in range(1, 7):        \n",
    "    for j in range(6-i):  \n",
    "        print(\" \", end=\"\")\n",
    "    for k in range(i):      \n",
    "        print(\"*\", end=\"\")\n",
    "    print()          "
   ]
  },
  {
   "cell_type": "code",
   "execution_count": 35,
   "id": "074c43cb",
   "metadata": {},
   "outputs": [
    {
     "name": "stdout",
     "output_type": "stream",
     "text": [
      "enter a number5\n",
      "* * * * * \n",
      "* * * * * \n",
      "* * * * * \n",
      "* * * * * \n",
      "* * * * * \n"
     ]
    }
   ],
   "source": [
    "n=int(input(\"enter a number\"))\n",
    "for i in range(n):\n",
    "    print(\"* \" *n)"
   ]
  },
  {
   "cell_type": "code",
   "execution_count": null,
   "id": "8b1242c0",
   "metadata": {},
   "outputs": [],
   "source": []
  }
 ],
 "metadata": {
  "kernelspec": {
   "display_name": "Python 3 (ipykernel)",
   "language": "python",
   "name": "python3"
  },
  "language_info": {
   "codemirror_mode": {
    "name": "ipython",
    "version": 3
   },
   "file_extension": ".py",
   "mimetype": "text/x-python",
   "name": "python",
   "nbconvert_exporter": "python",
   "pygments_lexer": "ipython3",
   "version": "3.9.13"
  }
 },
 "nbformat": 4,
 "nbformat_minor": 5
}
