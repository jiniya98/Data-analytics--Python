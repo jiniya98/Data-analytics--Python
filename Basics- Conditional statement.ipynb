{
 "cells": [
  {
   "cell_type": "markdown",
   "id": "ab580101",
   "metadata": {},
   "source": [
    "### write a program to check whether a given number is even or odd"
   ]
  },
  {
   "cell_type": "code",
   "execution_count": 2,
   "id": "5660b329",
   "metadata": {},
   "outputs": [
    {
     "name": "stdout",
     "output_type": "stream",
     "text": [
      "enter a number: 7\n",
      "The entered number is odd\n"
     ]
    }
   ],
   "source": [
    "num1=int(input(\"enter a number: \"))\n",
    "if num1%2==0:\n",
    "    print(\"The entered number is even\")\n",
    "else:\n",
    "    print(\"The entered number is odd\")"
   ]
  },
  {
   "cell_type": "markdown",
   "id": "61e5a2dc",
   "metadata": {},
   "source": [
    "### write a program to check whether an alphabet is a vowel or consonant"
   ]
  },
  {
   "cell_type": "code",
   "execution_count": 6,
   "id": "0d5226ed",
   "metadata": {},
   "outputs": [
    {
     "name": "stdout",
     "output_type": "stream",
     "text": [
      "Enter aan alphabet: i\n",
      "Entered alphabet is vowel\n"
     ]
    }
   ],
   "source": [
    "alphabet=input(\"Enter aan alphabet: \")\n",
    "if alphabet=='a' or alphabet=='e' or alphabet=='i' or alphabet=='o' or alphabet=='u':\n",
    "    print(\"Entered alphabet is vowel\")\n",
    "else:\n",
    "    print(\"Entered alphabet is consonant\")"
   ]
  },
  {
   "cell_type": "markdown",
   "id": "122a5c6d",
   "metadata": {},
   "source": [
    "### write a program to check whether a person is eligible to vote or not"
   ]
  },
  {
   "cell_type": "code",
   "execution_count": 8,
   "id": "da2da5d7",
   "metadata": {},
   "outputs": [
    {
     "name": "stdout",
     "output_type": "stream",
     "text": [
      "enter your age: 24\n",
      "you are eligible to vote!!!!\n"
     ]
    }
   ],
   "source": [
    "age=int(input(\"enter your age: \"))\n",
    "if age>=18:\n",
    "    print(\"you are eligible to vote!!!!\")\n",
    "else:\n",
    "    print(\"Sorry you are not eligible\")"
   ]
  },
  {
   "cell_type": "markdown",
   "id": "88f0b8e2",
   "metadata": {},
   "source": [
    "### write a program to check whether a given number is positive , negative or zero"
   ]
  },
  {
   "cell_type": "code",
   "execution_count": 15,
   "id": "10fdf4ba",
   "metadata": {},
   "outputs": [
    {
     "name": "stdout",
     "output_type": "stream",
     "text": [
      "enter a number: 7\n",
      "it is a positive number\n"
     ]
    }
   ],
   "source": [
    "num2=int(input(\"enter a number: \"))\n",
    "if num2>=1:\n",
    "    print(\"it is a positive number\")\n",
    "elif num2==0:\n",
    "    print(\"number which is neither positive nor negative\")\n",
    "else:\n",
    "    print(\"it's a negative number\")"
   ]
  },
  {
   "cell_type": "markdown",
   "id": "c7e5719f",
   "metadata": {},
   "source": [
    "### write a program to check whether a given year is leap year or not"
   ]
  },
  {
   "cell_type": "code",
   "execution_count": 27,
   "id": "039a8bbd",
   "metadata": {},
   "outputs": [
    {
     "name": "stdout",
     "output_type": "stream",
     "text": [
      "enter an year: 1998\n",
      "1998 it's not a leap year\n"
     ]
    }
   ],
   "source": [
    "year=int(input(\"enter an year: \"))\n",
    "if year%4==0 and year%100!=0:\n",
    "    print(year,\"it's a leap year\")\n",
    "else:\n",
    "    print(year,\"it's not a leap year\")"
   ]
  },
  {
   "cell_type": "markdown",
   "id": "6c33da76",
   "metadata": {},
   "source": [
    "### write a program to check a triangle is equilateral, isosceles or scalene."
   ]
  },
  {
   "cell_type": "code",
   "execution_count": 31,
   "id": "d35b9a90",
   "metadata": {},
   "outputs": [
    {
     "name": "stdout",
     "output_type": "stream",
     "text": [
      "enter first side: 4\n",
      "enter second side: 5\n",
      "enter third side: 7\n",
      "it's scalene triangle\n"
     ]
    }
   ],
   "source": [
    "a=int(input(\"enter first side: \"))\n",
    "b=int(input(\"enter second side: \"))\n",
    "c=int(input(\"enter third side: \"))\n",
    "if a==b==c:\n",
    "    print(\"it is an equilateral triangle\")\n",
    "elif a==b or b==c or c==a:\n",
    "    print(\"it is isosceles triangle\")\n",
    "else:\n",
    "    print(\"it's scalene triangle\")\n",
    "\n"
   ]
  },
  {
   "cell_type": "markdown",
   "id": "1ec9f8ed",
   "metadata": {},
   "source": [
    "### write a program to check whether after selling a product its profit or loss"
   ]
  },
  {
   "cell_type": "code",
   "execution_count": 33,
   "id": "26accdf4",
   "metadata": {},
   "outputs": [
    {
     "name": "stdout",
     "output_type": "stream",
     "text": [
      "enter the selling price:10000\n",
      "neither loss nor profit\n"
     ]
    }
   ],
   "source": [
    "cost_price=10000\n",
    "selling_price=int(input(\"enter the selling price:\"))\n",
    "if selling_price>cost_price:\n",
    "    print(\"profit earned\")\n",
    "elif selling_price<cost_price:\n",
    "    print(\"LOSS\")\n",
    "else:\n",
    "    print(\"neither loss nor profit\")"
   ]
  },
  {
   "cell_type": "markdown",
   "id": "e999685b",
   "metadata": {},
   "source": [
    "### write a program to enter 2 numbers and print the greatest number"
   ]
  },
  {
   "cell_type": "code",
   "execution_count": 3,
   "id": "985b0515",
   "metadata": {},
   "outputs": [
    {
     "name": "stdout",
     "output_type": "stream",
     "text": [
      "enter a number: 77\n",
      "enter a number: 89\n",
      "89 is the greatest among 2 numbers\n"
     ]
    }
   ],
   "source": [
    "num1=int(input(\"enter a number: \"))\n",
    "num2=int(input(\"enter a number: \"))\n",
    "if num1>num2:\n",
    "    print(num1,\"is the greatest among 2 numbers\")\n",
    "elif num2>num1:\n",
    "    print(num2,\"is the greatest among 2 numbers\")\n",
    "else:\n",
    "    print()"
   ]
  },
  {
   "cell_type": "markdown",
   "id": "035d8561",
   "metadata": {},
   "source": [
    "### write a program to enter 2 numbers and print the smallest number\n"
   ]
  },
  {
   "cell_type": "code",
   "execution_count": 5,
   "id": "d4fd747f",
   "metadata": {},
   "outputs": [
    {
     "name": "stdout",
     "output_type": "stream",
     "text": [
      "enter a number: 10\n",
      "enter a number: 15\n",
      "10 is the smallest among 2 numbers\n"
     ]
    }
   ],
   "source": [
    "num1=int(input(\"enter a number: \"))\n",
    "num2=int(input(\"enter a number: \"))\n",
    "if num1<num2:\n",
    "    print(num1,\"is the smallest among 2 numbers\")\n",
    "elif num2<num1:\n",
    "    print(num2,\"is the smallest among 2 numbers\")\n",
    "else:\n",
    "    print()"
   ]
  },
  {
   "cell_type": "markdown",
   "id": "9c667923",
   "metadata": {},
   "source": [
    "### write a program to enter 3 numbers and print the greatest number"
   ]
  },
  {
   "cell_type": "code",
   "execution_count": 7,
   "id": "5413ecb8",
   "metadata": {
    "scrolled": true
   },
   "outputs": [
    {
     "name": "stdout",
     "output_type": "stream",
     "text": [
      "enter a number: 3\n",
      "enter a number: 5\n",
      "enter a number: 7\n",
      "7 is the greatest\n"
     ]
    }
   ],
   "source": [
    "num1=int(input(\"enter a number: \"))\n",
    "num2=int(input(\"enter a number: \"))\n",
    "num3=int(input(\"enter a number: \"))\n",
    "if num1>num2 and num1>num3:\n",
    "    print(num1, \"is the greatest among 3 entered number\")\n",
    "elif num2>num1 and num2>num3:\n",
    "    print(num2, \"is the greatest among 3 entered number\")\n",
    "else:\n",
    "    print(num3,\"is the greatest\")\n",
    "    "
   ]
  },
  {
   "cell_type": "markdown",
   "id": "f92e7c03",
   "metadata": {},
   "source": [
    "### write a program to enter 3 numbers and print the smallest number"
   ]
  },
  {
   "cell_type": "code",
   "execution_count": 9,
   "id": "bab67c4b",
   "metadata": {},
   "outputs": [
    {
     "name": "stdout",
     "output_type": "stream",
     "text": [
      "enter a number: 345\n",
      "enter a number: 678\n",
      "enter a number: 900\n",
      "345 is the smallest among 3 entered number\n"
     ]
    }
   ],
   "source": [
    "num1=int(input(\"enter a number: \"))\n",
    "num2=int(input(\"enter a number: \"))\n",
    "num3=int(input(\"enter a number: \"))\n",
    "if num1<num2 and num1<num3:\n",
    "    print(num1, \"is the smallest among 3 entered number\")\n",
    "elif num2<num1 and num2<num3:\n",
    "    print(num2, \"is the smallest among 3 entered number\")\n",
    "else:\n",
    "    print(num3,\"is the smallest\")"
   ]
  },
  {
   "cell_type": "markdown",
   "id": "c4d66a62",
   "metadata": {},
   "source": [
    "###  write a program to calculate the roots of quadratic equation"
   ]
  },
  {
   "cell_type": "code",
   "execution_count": 13,
   "id": "f3c3183b",
   "metadata": {},
   "outputs": [
    {
     "name": "stdout",
     "output_type": "stream",
     "text": [
      "enter a number: 1\n",
      "enter a number: -3\n",
      "enter a number: 4\n",
      "-7 has no real roots\n"
     ]
    }
   ],
   "source": [
    "a=int(input(\"enter a number: \"))\n",
    "b=int(input(\"enter a number: \"))\n",
    "c=int(input(\"enter a number: \"))\n",
    "discriminant= (b**2)-4*a*c\n",
    "if discriminant >0:\n",
    "    print(discriminant,\"has 2 distinct real roots\")\n",
    "elif discriminant==0:\n",
    "    print(discriminant,\"has 2 equal real roots\")\n",
    "else:\n",
    "    print(discriminant,\"has no real roots\")"
   ]
  },
  {
   "cell_type": "markdown",
   "id": "729365ac",
   "metadata": {},
   "source": [
    "### write a program to enter a number between(1-7) and print the respective day of the week"
   ]
  },
  {
   "cell_type": "code",
   "execution_count": 8,
   "id": "8a105f88",
   "metadata": {},
   "outputs": [
    {
     "name": "stdout",
     "output_type": "stream",
     "text": [
      "Enter a number from 1-7: 8\n",
      "invalid!! please enter number between 1-7\n"
     ]
    }
   ],
   "source": [
    "a=int(input(\"Enter a number from 1-7: \"))\n",
    "if a==1:\n",
    "      print(\"It is sunday\")\n",
    "elif a==2:\n",
    "      print(\"It is monday\")\n",
    "elif a==3:\n",
    "      print(\"It is tueday\")\n",
    "elif a==4:\n",
    "      print(\"It is wednesday\")\n",
    "elif a==5:\n",
    "      print(\"It is thursday\")\n",
    "elif a==6:\n",
    "      print(\"It is friday\")\n",
    "elif a==7:\n",
    "      print(\"It is saturday\")\n",
    "else:\n",
    "      print(\"invalid!! please enter number between 1-7\")\n"
   ]
  },
  {
   "cell_type": "markdown",
   "id": "cd2b7b3b",
   "metadata": {},
   "source": [
    "### write a program to enter a number between(1-12) and print the respective month"
   ]
  },
  {
   "cell_type": "code",
   "execution_count": 9,
   "id": "394ea86b",
   "metadata": {},
   "outputs": [
    {
     "name": "stdout",
     "output_type": "stream",
     "text": [
      "Enter a number from 1-12: 5\n",
      "it is may\n"
     ]
    }
   ],
   "source": [
    "a=int(input(\"Enter a number from 1-12: \"))\n",
    "if a==1:\n",
    "    print(\"it is january\")\n",
    "elif a==2:\n",
    "    print(\"it is february\")\n",
    "elif a==3:\n",
    "    print(\"it is march\")\n",
    "elif a==4:\n",
    "    print(\"it is april\")\n",
    "elif a==5:\n",
    "    print(\"it is may\")\n",
    "elif a==6:\n",
    "    print(\"it is june\")\n",
    "elif a==7:\n",
    "    print(\"it is july\")\n",
    "elif a==8:\n",
    "    print(\"it is august\")\n",
    "elif a==9:\n",
    "    print(\"it is september\")\n",
    "elif a==10:\n",
    "    print(\"it is october\")\n",
    "elif a==11:\n",
    "    print(\"it is november\")\n",
    "elif a==12:\n",
    "    print(\"it is december\")\n",
    "else:\n",
    "    print(\"sorry \")"
   ]
  },
  {
   "cell_type": "markdown",
   "id": "b8ff2020",
   "metadata": {},
   "source": [
    "### write a program to enter number between (1-4) and perform the following operation:\n",
    "#### * Addition\n",
    "#### * Substraction\n",
    "#### * Multiplication\n",
    "#### * Division"
   ]
  },
  {
   "cell_type": "code",
   "execution_count": 2,
   "id": "89faf6a2",
   "metadata": {},
   "outputs": [
    {
     "name": "stdout",
     "output_type": "stream",
     "text": [
      "enter a number: 700\n",
      "enter a number: 300\n",
      "enter a number from 1-4 only: 4\n",
      "division of two numbers is 2.3333333333333335\n"
     ]
    }
   ],
   "source": [
    "a=int(input(\"enter a number: \"))\n",
    "b=int(input(\"enter a number: \"))\n",
    "c=int(input(\"enter a number from 1-4 only: \"))\n",
    "if c==1:\n",
    "    print(\"addition of two numbers is\",a+b)\n",
    "elif c==2:\n",
    "    print(\"substraction of two numbers is\",a-b)\n",
    "elif c==3:\n",
    "    print(\"multiplication of two numbers is\",a*b)\n",
    "elif c==4:\n",
    "    print(\"division of two numbers is\",a/b)\n",
    "else:\n",
    "    print(\"sorry please enter value between 1 and\")"
   ]
  },
  {
   "cell_type": "markdown",
   "id": "8d17919d",
   "metadata": {},
   "source": [
    "### write a program to convert temperatures to and from celsius to fahrenheit"
   ]
  },
  {
   "cell_type": "code",
   "execution_count": 5,
   "id": "2d7f288c",
   "metadata": {},
   "outputs": [
    {
     "name": "stdout",
     "output_type": "stream",
     "text": [
      "enter the temperature in your place: 30\n",
      "enter the scale: c\n",
      "here the temperature in fahrenheit 86.0\n"
     ]
    }
   ],
   "source": [
    "temperature=float(input(\"enter the temperature in your place: \"))\n",
    "scale=input(\"enter the scale: \")\n",
    "if scale=='c':\n",
    "    print(\"here the temperature in fahrenheit\",(temperature*1.8)+32)\n",
    "elif scale=='f':\n",
    "    print(\"here the temperature in celsius\", (temperature-32)*5/9)\n",
    "    "
   ]
  },
  {
   "cell_type": "markdown",
   "id": "a36730af",
   "metadata": {},
   "source": [
    "### A school has following rules for grading system:\n",
    "##### a. below 25-F\n",
    "##### b. 25 to 45 - E\n",
    "##### c. 45 to 50 -D\n",
    "##### d. 50 to 60 -C\n",
    "##### e. 60 to 80 -B\n",
    "##### f. Above 80 -A\n",
    "### Ask user to enter marks and print corresponding grade"
   ]
  },
  {
   "cell_type": "code",
   "execution_count": 5,
   "id": "4fe85af1",
   "metadata": {},
   "outputs": [
    {
     "name": "stdout",
     "output_type": "stream",
     "text": [
      "Enter your mark: 78\n",
      "your grade is B\n"
     ]
    }
   ],
   "source": [
    "mark=float(input(\"Enter your mark: \"))\n",
    "if mark<25:\n",
    "    print(\"your grade is F\")\n",
    "elif mark>=25 and mark<45:\n",
    "    print(\"your grade is E\")\n",
    "elif mark>=45 and mark<50:\n",
    "    print(\"your grade is D\")\n",
    "elif mark>=50 and mark<60:\n",
    "    print(\"your grade is C\")\n",
    "elif mark>=60 and mark<80:\n",
    "    print(\"your grade is B\") \n",
    "elif mark>80:\n",
    "    print(\"your grade is A\")\n",
    "else:\n",
    "    print()\n",
    "    "
   ]
  },
  {
   "cell_type": "markdown",
   "id": "77e8562d",
   "metadata": {},
   "source": [
    "### A company decided to give bonus of 5% to employees if his/her year of service is more than 5 years . Ask\n",
    "### user for their salary and year of service and print the net bonus amount"
   ]
  },
  {
   "cell_type": "code",
   "execution_count": 6,
   "id": "dcebc892",
   "metadata": {},
   "outputs": [
    {
     "name": "stdout",
     "output_type": "stream",
     "text": [
      "Enter your salary: 780000\n",
      "Enter your year of service: 7\n",
      "you will get a bonus of  39000.0\n"
     ]
    }
   ],
   "source": [
    "salary=float(input(\"Enter your salary: \"))\n",
    "year=int(input(\"Enter your year of service: \"))\n",
    "if year>5:\n",
    "    print(\"you will get a bonus of \", salary*0.05)\n",
    "else:\n",
    "    print(\"sorry you will not get any bonus\")"
   ]
  },
  {
   "cell_type": "markdown",
   "id": "d49ee252",
   "metadata": {},
   "source": [
    "### write a program to take input of length and breadth of a rectangle from user and check if it is a square or not"
   ]
  },
  {
   "cell_type": "code",
   "execution_count": 10,
   "id": "a7bdf346",
   "metadata": {},
   "outputs": [
    {
     "name": "stdout",
     "output_type": "stream",
     "text": [
      "enter the length: 77\n",
      "enter the breadth: 77\n",
      "it is a square\n"
     ]
    }
   ],
   "source": [
    "length=int(input(\"enter the length: \"))\n",
    "breadth=int(input(\"enter the breadth: \"))\n",
    "if length==breadth:\n",
    "    print(\"it is a square\")\n",
    "else:\n",
    "    print(\"not a square\")"
   ]
  },
  {
   "cell_type": "markdown",
   "id": "a2fa0230",
   "metadata": {},
   "source": [
    "### Take input of age of 3 people by user and determine oldest and youngest among them"
   ]
  },
  {
   "cell_type": "code",
   "execution_count": 11,
   "id": "0e27e09b",
   "metadata": {},
   "outputs": [
    {
     "name": "stdout",
     "output_type": "stream",
     "text": [
      "Enter age of user 1 : 50\n",
      "Enter age of user 2 : 60\n",
      "Enter age of user 3 : 70\n",
      "user 3 is oldest out of three users\n",
      "user 1 is youngest out of three users\n"
     ]
    }
   ],
   "source": [
    "u1 = int(input(\"Enter age of user 1 : \"))\n",
    "u2 = int(input(\"Enter age of user 2 : \"))\n",
    "u3 = int(input(\"Enter age of user 3 : \"))\n",
    "if u1 > u2 and u1 > u3:\n",
    "    print(\"user 1 is oldest out of three users\")\n",
    "elif u2 > u1 and u2 > u3:\n",
    "    print(\"user 2 is oldest out of three users\")\n",
    "elif u3 > u1 and u3 > u2:\n",
    "    print(\"user 3 is oldest out of three users\")\n",
    "if u1 < u2 and u1 < u3:\n",
    "    print(\"user 1 is youngest out of three users\")\n",
    "elif u2 < u1 and u2 < u3:\n",
    "    print(\"user 2 is youngest out of three users\")\n",
    "elif u3 < u1 and u3 < u2:\n",
    "    print(\"user 3 is youngest out of three users\")\n"
   ]
  },
  {
   "cell_type": "code",
   "execution_count": null,
   "id": "3fd1b955",
   "metadata": {},
   "outputs": [],
   "source": []
  }
 ],
 "metadata": {
  "kernelspec": {
   "display_name": "Python 3 (ipykernel)",
   "language": "python",
   "name": "python3"
  },
  "language_info": {
   "codemirror_mode": {
    "name": "ipython",
    "version": 3
   },
   "file_extension": ".py",
   "mimetype": "text/x-python",
   "name": "python",
   "nbconvert_exporter": "python",
   "pygments_lexer": "ipython3",
   "version": "3.9.13"
  }
 },
 "nbformat": 4,
 "nbformat_minor": 5
}
